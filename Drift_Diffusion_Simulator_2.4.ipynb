{
 "cells": [
  {
   "cell_type": "markdown",
   "id": "482a8ef0",
   "metadata": {},
   "source": [
    "<img src=\"Ser-SAM.jpg\" width=\"700\" height=\"500\" align=\"center\"/>"
   ]
  },
  {
   "cell_type": "markdown",
   "id": "97053bc6",
   "metadata": {},
   "source": [
    "# Drift-Diffusion Simulator (Version 2.4)\n",
    "\n",
    "***\n",
    "\n",
    "An open-source computational tool developed in support of:\n",
    "\n",
    "#### _A New Framework for Understanding Recombination-Limited Charge Extraction in Disordered Semiconductors_\n",
    "\n",
    "\n",
    "_Austin M. Kay$^{*1}$, Drew B. Riley$^{*1}$, Paul Meredith$^1$, Ardalan Armin$^{*1}$, & Oskar J. Sandberg$^{*2}$_\n",
    "\n",
    "$^1$Sustainable Advanced Materials (Sêr SAM), Centre for Integrative Semiconductor Materials (CISM), Swansea University Bay Campus, Crymlyn Burrows, SA1 8EN, United Kingdom\n",
    "\n",
    "$^2$Physics, Faculty of Science and Engineering, Åbo Akademi University, 20500 Turku, Finland\n",
    "\n",
    "Email: a.m.kay.954708@swansea.ac.uk; d.b.riley@swansea.ac.uk; oskar.sandberg@abo.fi\n",
    "\n",
    "***"
   ]
  },
  {
   "cell_type": "code",
   "execution_count": 2,
   "id": "681f32a9",
   "metadata": {
    "scrolled": false
   },
   "outputs": [
    {
     "name": "stdout",
     "output_type": "stream",
     "text": [
      "All optical constants present.\n"
     ]
    },
    {
     "data": {
      "application/vnd.jupyter.widget-view+json": {
       "model_id": "50e133d977854139954b183269d9805e",
       "version_major": 2,
       "version_minor": 0
      },
      "text/plain": [
       "VBox(children=(Accordion(children=(VBox(children=(FloatText(value=100.0, description='Active Layer Thickness, …"
      ]
     },
     "metadata": {},
     "output_type": "display_data"
    }
   ],
   "source": [
    "%run -i Detailed_Drift_Diffusion_Simulator_2.4 ;"
   ]
  },
  {
   "cell_type": "code",
   "execution_count": 3,
   "id": "9283ec89",
   "metadata": {},
   "outputs": [
    {
     "data": {
      "application/vnd.jupyter.widget-view+json": {
       "model_id": "50e133d977854139954b183269d9805e",
       "version_major": 2,
       "version_minor": 0
      },
      "text/plain": [
       "VBox(children=(Accordion(children=(VBox(children=(FloatText(value=100.0, description='Active Layer Thickness, …"
      ]
     },
     "metadata": {},
     "output_type": "display_data"
    }
   ],
   "source": [
    "Compiled_User_Interface"
   ]
  }
 ],
 "metadata": {
  "kernelspec": {
   "display_name": "Python 3 (ipykernel)",
   "language": "python",
   "name": "python3"
  },
  "language_info": {
   "codemirror_mode": {
    "name": "ipython",
    "version": 3
   },
   "file_extension": ".py",
   "mimetype": "text/x-python",
   "name": "python",
   "nbconvert_exporter": "python",
   "pygments_lexer": "ipython3",
   "version": "3.9.13"
  }
 },
 "nbformat": 4,
 "nbformat_minor": 5
}
